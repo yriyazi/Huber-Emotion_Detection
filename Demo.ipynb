{
 "cells": [
  {
   "cell_type": "code",
   "execution_count": 30,
   "metadata": {},
   "outputs": [],
   "source": [
    "import  torch\n",
    "import  torch.nn        as      nn\n",
    "from    transformers    import  AutoConfig, AutoTokenizer, AutoModel\n",
    "from    transformers    import  Wav2Vec2FeatureExtractor\n"
   ]
  },
  {
   "cell_type": "code",
   "execution_count": 31,
   "metadata": {},
   "outputs": [
    {
     "name": "stderr",
     "output_type": "stream",
     "text": [
      "c:\\Users\\YSNfirst\\anaconda3\\envs\\torch3.11\\Lib\\site-packages\\huggingface_hub\\file_download.py:1132: FutureWarning: `resume_download` is deprecated and will be removed in version 1.0.0. Downloads always resume when possible. If you want to force a new download, use `force_download=True`.\n",
      "  warnings.warn(\n",
      "Some weights of the model checkpoint at facebook/hubert-base-ls960 were not used when initializing HubertModel: ['encoder.pos_conv_embed.conv.weight_g', 'encoder.pos_conv_embed.conv.weight_v']\n",
      "- This IS expected if you are initializing HubertModel from the checkpoint of a model trained on another task or with another architecture (e.g. initializing a BertForSequenceClassification model from a BertForPreTraining model).\n",
      "- This IS NOT expected if you are initializing HubertModel from the checkpoint of a model that you expect to be exactly identical (initializing a BertForSequenceClassification model from a BertForSequenceClassification model).\n",
      "Some weights of HubertModel were not initialized from the model checkpoint at facebook/hubert-base-ls960 and are newly initialized: ['encoder.pos_conv_embed.conv.parametrizations.weight.original0', 'encoder.pos_conv_embed.conv.parametrizations.weight.original1']\n",
      "You should probably TRAIN this model on a down-stream task to be able to use it for predictions and inference.\n"
     ]
    }
   ],
   "source": [
    "device = \"cuda\" \n",
    "\n",
    "embedding  = Wav2Vec2FeatureExtractor.from_pretrained('facebook/wav2vec2-base-960h')\n",
    "\n",
    "model_name  = \"facebook/hubert-base-ls960\"\n",
    "# Downlaoding ~350 Mb\n",
    "HuBERT      = AutoModel.from_pretrained(model_name,output_hidden_states= True).to(device)     \n",
    "\n",
    "classifier = nn.Sequential(nn.Dropout(0.5),\n",
    "                            nn.Linear(768,128),\n",
    "                            nn.ReLU(),\n",
    "                            nn.Linear(128,6)).to(device)     \n",
    "\n"
   ]
  },
  {
   "cell_type": "code",
   "execution_count": 32,
   "metadata": {},
   "outputs": [],
   "source": [
    "_data = torch.rand(size=[1000,1000],device=device)"
   ]
  },
  {
   "cell_type": "code",
   "execution_count": 33,
   "metadata": {},
   "outputs": [
    {
     "name": "stdout",
     "output_type": "stream",
     "text": [
      "tensor([[ 0.1462,  0.2903,  0.0721, -0.0061,  0.1911, -0.1937],\n",
      "        [ 0.1543,  0.0997,  0.1776,  0.0383,  0.0805, -0.1793],\n",
      "        [ 0.1918,  0.0266,  0.0859, -0.0114,  0.0658, -0.1616],\n",
      "        ...,\n",
      "        [ 0.0439,  0.2342,  0.1748, -0.0882, -0.0042, -0.0574],\n",
      "        [-0.0098,  0.0638,  0.1304, -0.0585,  0.0389, -0.1197],\n",
      "        [ 0.2098,  0.1549, -0.0167, -0.1903,  0.0676, -0.1440]],\n",
      "       device='cuda:0')\n"
     ]
    }
   ],
   "source": [
    "with torch.no_grad():\n",
    "    outputs = embedding(_data,sampling_rate=16000, return_tensors='pt').input_values.to(device)        \n",
    "    outputs = HuBERT(outputs.squeeze(0))\n",
    "    outputs = outputs.last_hidden_state.mean(dim=1)   \n",
    "    outputs = classifier(outputs)    \n",
    "    print(outputs)"
   ]
  }
 ],
 "metadata": {
  "kernelspec": {
   "display_name": "torch3.11",
   "language": "python",
   "name": "python3"
  },
  "language_info": {
   "codemirror_mode": {
    "name": "ipython",
    "version": 3
   },
   "file_extension": ".py",
   "mimetype": "text/x-python",
   "name": "python",
   "nbconvert_exporter": "python",
   "pygments_lexer": "ipython3",
   "version": "3.11.9"
  }
 },
 "nbformat": 4,
 "nbformat_minor": 2
}
